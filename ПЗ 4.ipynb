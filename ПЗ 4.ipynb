{
  "nbformat": 4,
  "nbformat_minor": 0,
  "metadata": {
    "accelerator": "TPU",
    "colab": {
      "name": "ПЗ 4.ipynb",
      "provenance": [],
      "collapsed_sections": []
    },
    "kernelspec": {
      "display_name": "Python 3",
      "language": "python",
      "name": "python3"
    },
    "language_info": {
      "codemirror_mode": {
        "name": "ipython",
        "version": 3
      },
      "file_extension": ".py",
      "mimetype": "text/x-python",
      "name": "python",
      "nbconvert_exporter": "python",
      "pygments_lexer": "ipython3",
      "version": "3.8.8"
    }
  },
  "cells": [
    {
      "cell_type": "markdown",
      "metadata": {
        "id": "-mYY42BSBOi1"
      },
      "source": [
        "# ПЗ 4."
      ]
    },
    {
      "cell_type": "code",
      "metadata": {
        "id": "zvoeKMnP0V7j"
      },
      "source": [
        "import os\n",
        "import skimage.io as io\n",
        "import numpy as np\n",
        "\n",
        "import tensorflow as tf"
      ],
      "execution_count": 1,
      "outputs": []
    },
    {
      "cell_type": "code",
      "metadata": {
        "id": "FpdTlJo0zDt-"
      },
      "source": [
        "COCO_ROOT = './data/'\n",
        "WEIGHT_DECAY = 0.0005\n",
        "TRAIN_BATCH_SIZE = 16\n",
        "VAL_BATCH_SIZE = 16\n",
        "TRAIN_EPOCHS = 45\n",
        "INPUT_SIZE = 384\n",
        "LEARNING_RATE = 0.0001\n",
        "LOG_DIR = 'logs/person_coco_aspp'"
      ],
      "execution_count": 2,
      "outputs": []
    },
    {
      "cell_type": "markdown",
      "metadata": {
        "id": "-rSwyWz-BU9t"
      },
      "source": [
        "## Загрузка датасета COCO и COCO API"
      ]
    },
    {
      "cell_type": "code",
      "metadata": {
        "id": "H306Fzq_0Mzi",
        "scrolled": false
      },
      "source": [
        "if 0:\n",
        "    !mkdir -p data\n",
        "\n",
        "    !cd data && wget http://images.cocodataset.org/zips/train2017.zip \n",
        "    !cd data && wget http://images.cocodataset.org/zips/val2017.zip \n",
        "    !cd data && wget http://images.cocodataset.org/annotations/annotations_trainval2017.zip \n",
        "\n",
        "    !cd data && unzip -q train2017.zip\n",
        "    !cd data && unzip -q val2017.zip\n",
        "    !cd data && unzip -q annotations_trainval2017.zip\n",
        "\n",
        "    !cd data && git clone https://github.com/cocodataset/cocoapi\n",
        "    !cd data/cocoapi/PythonAPI && make"
      ],
      "execution_count": 3,
      "outputs": []
    },
    {
      "cell_type": "markdown",
      "metadata": {
        "id": "y0xB9xnQBbV2"
      },
      "source": [
        "## Подготовка COCO API"
      ]
    },
    {
      "cell_type": "code",
      "metadata": {
        "id": "FLYZPXQg1m94"
      },
      "source": [
        "import sys\n",
        "sys.path.insert(0, os.path.join(COCO_ROOT, 'cocoapi/PythonAPI'))\n",
        "from pycocotools.coco import COCO"
      ],
      "execution_count": 4,
      "outputs": []
    },
    {
      "cell_type": "markdown",
      "metadata": {
        "id": "0yLcNgZOBgQ0"
      },
      "source": [
        "## Универсальный класс Dataset для сегментации"
      ]
    },
    {
      "cell_type": "code",
      "metadata": {
        "id": "bZhpoFlh1rmE"
      },
      "source": [
        "class Dataset():\n",
        "\n",
        "    def crop_images(self, img, inp_size, random_crop=False):\n",
        "        shape = tf.shape(img)\n",
        "        pad = (\n",
        "            [0, tf.maximum(inp_size - shape[0], 0)],\n",
        "            [0, tf.maximum(inp_size - shape[1], 0)],\n",
        "            [0, 0],\n",
        "        )\n",
        "        img = tf.pad(img, pad)\n",
        "\n",
        "        if random_crop:\n",
        "            img = tf.image.random_crop(img, (inp_size, inp_size, shape[2]))\n",
        "        else: # central crop\n",
        "            shape = tf.shape(img)\n",
        "            ho = (shape[0] - inp_size) // 2\n",
        "            wo = (shape[1] - inp_size) // 2\n",
        "            img = img[ho:ho+inp_size, wo:wo+inp_size, :]\n",
        "\n",
        "        return img\n",
        "\n",
        "    def train_dataset(self, batch_size, epochs, inp_size):\n",
        "\n",
        "        def item_to_images(item):\n",
        "            random_crop = True\n",
        "            img_combined = tf.py_function(self.read_images, [item], tf.uint8)\n",
        "            img_combined = self.crop_images(img_combined, inp_size, random_crop)\n",
        "\n",
        "            img = tf.cast(img_combined[...,:3], tf.float32) / np.float32(255.)\n",
        "            mask_class = tf.cast(img_combined[...,3:4], tf.float32)\n",
        "            return img, mask_class\n",
        "\n",
        "        dataset = tf.data.Dataset.from_tensor_slices(self.img_list)\n",
        "        dataset = dataset.shuffle(buffer_size=len(self.img_list))\n",
        "        dataset = dataset.map(item_to_images)\n",
        "        dataset = dataset.repeat(epochs)\n",
        "        dataset = dataset.batch(batch_size, drop_remainder=True)\n",
        "\n",
        "        return dataset\n",
        "\n",
        "    def val_dataset(self, batch_size, inp_size):\n",
        "\n",
        "        def item_to_images(item):\n",
        "            random_crop = False\n",
        "            img_combined = tf.py_function(self.read_images, [item], tf.uint8)\n",
        "            img_combined = self.crop_images(img_combined, inp_size, random_crop)\n",
        "\n",
        "            img = tf.cast(img_combined[...,:3], tf.float32) / np.float32(255.)\n",
        "            mask_class = tf.cast(img_combined[...,3:4], tf.float32)\n",
        "            return img, mask_class\n",
        "\n",
        "        dataset = tf.data.Dataset.from_tensor_slices(self.img_list)\n",
        "        dataset = dataset.map(item_to_images)\n",
        "        dataset = dataset.batch(batch_size, drop_remainder=True)\n",
        "\n",
        "        return dataset"
      ],
      "execution_count": 5,
      "outputs": []
    },
    {
      "cell_type": "markdown",
      "metadata": {
        "id": "ZPXZGUhHBn3Q"
      },
      "source": [
        "## Класс для сегментационного датасета COCO\n",
        "Класс наследутся от универсльного `Dataset` и реализует кастомную функцию чтения данных."
      ]
    },
    {
      "cell_type": "code",
      "metadata": {
        "id": "MjYwt86l1xMt"
      },
      "source": [
        "class COCO_Dataset(Dataset):\n",
        "\n",
        "    def __init__(self, sublist):\n",
        "        ann_file_fpath = os.path.join(COCO_ROOT, 'annotations', 'instances_'+sublist+'2017.json')\n",
        "        self.coco = COCO(ann_file_fpath)\n",
        "        self.cat_ids = self.coco.getCatIds(catNms=['person'])\n",
        "        self.img_list = self.coco.getImgIds(catIds=self.cat_ids)\n",
        "\n",
        "    def read_images(self, img_id):\n",
        "        img_id = int(img_id.numpy())\n",
        "        img_data = self.coco.loadImgs(img_id)[0]\n",
        "        img_fname = '/'.join(img_data['coco_url'].split('/')[-2:])\n",
        "\n",
        "        img = io.imread(os.path.join(COCO_ROOT, img_fname))\n",
        "        if len(img.shape) == 2:\n",
        "            img = np.tile(img[..., None], (1, 1, 3))\n",
        "\n",
        "        ann_ids = self.coco.getAnnIds(imgIds=img_data['id'], catIds=self.cat_ids, iscrowd=None)\n",
        "        anns = self.coco.loadAnns(ann_ids)\n",
        "        mask_class = np.zeros((img.shape[0], img.shape[1]), dtype=np.uint8)\n",
        "        for i in range(len(anns)):\n",
        "            mask_class += self.coco.annToMask(anns[i])\n",
        "        mask_class = (mask_class > 0).astype(np.uint8)\n",
        "\n",
        "        img_combined = np.concatenate([img, mask_class[..., None]], axis=2)\n",
        "\n",
        "        return img_combined"
      ],
      "execution_count": 6,
      "outputs": []
    },
    {
      "cell_type": "code",
      "metadata": {
        "colab": {
          "base_uri": "https://localhost:8080/"
        },
        "id": "cdevykTc1zWz",
        "outputId": "b6bfb218-df40-4be1-d7d3-7bd35fd2a8e9"
      },
      "source": [
        "COCO_dataset_train = COCO_Dataset('train')\n",
        "COCO_dataset_val = COCO_Dataset('val')"
      ],
      "execution_count": 7,
      "outputs": [
        {
          "output_type": "stream",
          "text": [
            "loading annotations into memory...\n",
            "Done (t=28.72s)\n",
            "creating index...\n",
            "index created!\n",
            "loading annotations into memory...\n",
            "Done (t=3.27s)\n",
            "creating index...\n",
            "index created!\n"
          ],
          "name": "stdout"
        }
      ]
    },
    {
      "cell_type": "code",
      "metadata": {
        "id": "1c-9GNjZJiAd"
      },
      "source": [
        "train_ds = COCO_dataset_train.train_dataset(TRAIN_BATCH_SIZE, TRAIN_EPOCHS, INPUT_SIZE)\n",
        "\n",
        "val_ds = COCO_dataset_val.val_dataset(VAL_BATCH_SIZE, INPUT_SIZE)"
      ],
      "execution_count": 8,
      "outputs": []
    },
    {
      "cell_type": "markdown",
      "metadata": {
        "id": "-8R6IryjzDuG"
      },
      "source": [
        "## Подмодель: свертка + BatchNorm + ReLU"
      ]
    },
    {
      "cell_type": "code",
      "metadata": {
        "id": "QnY4MuTazDuG"
      },
      "source": [
        "class CBR(tf.keras.Model):\n",
        "    def __init__(self, filters, kernel_size, **conv_params):\n",
        "        super(CBR, self).__init__()\n",
        "        self.conv = tf.keras.layers.Conv2D(filters, kernel_size, activation=None, use_bias=False, **conv_params)\n",
        "        self.bn = tf.keras.layers.BatchNormalization(axis=-1)\n",
        "\n",
        "    def __call__(self, inp, is_training=False):\n",
        "        out = self.conv(inp)\n",
        "        out = self.bn(out, training=is_training)\n",
        "        out = tf.nn.relu(out)\n",
        "        return out"
      ],
      "execution_count": 9,
      "outputs": []
    },
    {
      "cell_type": "markdown",
      "metadata": {
        "id": "4DBnDxp4zDuH"
      },
      "source": [
        "## Подмодель: ASPP, Atrous Spatial Pyramid Pooling"
      ]
    },
    {
      "cell_type": "code",
      "metadata": {
        "id": "KcPkyqIvzDuH"
      },
      "source": [
        "class ASPP(tf.keras.Model):\n",
        "    def __init__(self, **conv_params):\n",
        "        super(ASPP, self).__init__()\n",
        "        self.conv_1 = CBR(256, (1, 1), **conv_params)\n",
        "        self.conv_2 = CBR(256, (3, 3), dilation_rate=6, **conv_params)\n",
        "        self.conv_3 = CBR(256, (3, 3), dilation_rate=12, **conv_params)\n",
        "        self.conv_4 = CBR(256, (3, 3), dilation_rate=18, **conv_params)\n",
        "        self.conv_5 = CBR(256, (1, 1), **conv_params)\n",
        "\n",
        "    def __call__(self, inp, is_training=False):\n",
        "        out_1 = self.conv_1(inp, is_training)\n",
        "        out_2 = self.conv_2(inp, is_training)\n",
        "        out_3 = self.conv_3(inp, is_training)\n",
        "        out_4 = self.conv_4(inp, is_training)\n",
        "\n",
        "        out = tf.concat([out_1, out_2, out_3, out_4], axis=3)\n",
        "        out = self.conv_5(out, is_training)\n",
        "\n",
        "        return out"
      ],
      "execution_count": 10,
      "outputs": []
    },
    {
      "cell_type": "markdown",
      "metadata": {
        "id": "RB7jtPMOzDuH"
      },
      "source": [
        "## Определение основной сети"
      ]
    },
    {
      "cell_type": "code",
      "metadata": {
        "id": "l53jHF3VzDuI"
      },
      "source": [
        "class Model(tf.keras.Model):\n",
        "    def __init__(self, weight_decay=0.0):\n",
        "        super(Model, self).__init__()\n",
        "\n",
        "        conv_params = {\n",
        "            'padding': 'same',\n",
        "            'kernel_regularizer': tf.keras.regularizers.l2(weight_decay)\n",
        "        }\n",
        "\n",
        "        self.conv_1 = CBR(64, (3, 3), **conv_params)\n",
        "        self.conv_2 = CBR(64, (3, 3), **conv_params)\n",
        "        self.conv_3 = CBR(128, (3, 3), **conv_params)\n",
        "        self.conv_4 = CBR(128, (3, 3), **conv_params)\n",
        "        self.conv_5 = CBR(256, (3, 3), **conv_params)\n",
        "        self.conv_6 = CBR(256, (3, 3), **conv_params)\n",
        "        self.conv_7 = CBR(512, (3, 3), **conv_params)\n",
        "        self.conv_8 = CBR(512, (3, 3), **conv_params)\n",
        "        self.conv_9 = CBR(512, (3, 3), **conv_params)\n",
        "        self.conv_10 = CBR(512, (3, 3), **conv_params)\n",
        "\n",
        "        self.conv_11 = CBR(48, (1, 1), **conv_params)\n",
        "        self.conv_12 = CBR(256, (3, 3), **conv_params)\n",
        "        self.conv_13 = CBR(256, (3, 3), **conv_params)\n",
        "        self.conv_14 = tf.keras.layers.Conv2D(1, (1, 1), activation=None, padding='same')\n",
        "\n",
        "        self.maxpool = tf.keras.layers.MaxPooling2D((2, 2), (2, 2), padding='same')\n",
        "\n",
        "        self.aspp = ASPP(**conv_params)\n",
        "\n",
        "    def __call__(self, inp, is_training=False):\n",
        "\n",
        "        out = self.conv_1(inp, is_training)\n",
        "        out = self.conv_2(out, is_training)\n",
        "        out = self.maxpool(out)\n",
        "        out = self.conv_3(out, is_training)\n",
        "        out = self.conv_4(out, is_training)\n",
        "        out = self.maxpool(out)\n",
        "        out = self.conv_5(out, is_training)\n",
        "        out = self.conv_6(out, is_training)\n",
        "        out_enc_mid = out\n",
        "        out = self.maxpool(out)\n",
        "        out = self.conv_7(out, is_training)\n",
        "        out = self.conv_8(out, is_training)\n",
        "        out = self.maxpool(out)\n",
        "        out = self.conv_9(out, is_training)\n",
        "        out = self.conv_10(out, is_training)\n",
        "\n",
        "        out = self.aspp(out, is_training)\n",
        "\n",
        "        out = tf.image.resize(out, tf.shape(out_enc_mid)[1:3], method='bilinear')\n",
        "\n",
        "        out_enc_mid = self.conv_11(out_enc_mid, is_training)\n",
        "\n",
        "        out = tf.concat([out, out_enc_mid], axis=3)\n",
        "\n",
        "        out = self.conv_12(out, is_training)\n",
        "        out = self.conv_13(out, is_training)\n",
        "        out = self.conv_14(out)\n",
        "\n",
        "        out = tf.image.resize(out, tf.shape(inp)[1:3], method='bilinear')\n",
        "\n",
        "        return out"
      ],
      "execution_count": 11,
      "outputs": []
    },
    {
      "cell_type": "markdown",
      "metadata": {
        "id": "lAKQt2qVzDuI"
      },
      "source": [
        "## Создаем сеть"
      ]
    },
    {
      "cell_type": "code",
      "metadata": {
        "id": "OijMoNp9zDuJ"
      },
      "source": [
        "net = Model(weight_decay=WEIGHT_DECAY)"
      ],
      "execution_count": 12,
      "outputs": []
    },
    {
      "cell_type": "markdown",
      "metadata": {
        "id": "CY9-VFHMzDuJ"
      },
      "source": [
        "## Функция потерь и оценка валидации"
      ]
    },
    {
      "cell_type": "code",
      "metadata": {
        "id": "YrClcmo2zDuJ"
      },
      "source": [
        "def loss(logits, labels):\n",
        "    return tf.reduce_mean(tf.nn.sigmoid_cross_entropy_with_logits(logits=logits, labels=labels))\n",
        "\n",
        "def evaluate_model(net, val_ds):\n",
        "    val_ds_iterator = iter(val_ds)\n",
        "    mean_loss = 0.0\n",
        "    counter = 0\n",
        "    for (img, gt) in val_ds_iterator:\n",
        "        logits = net(img, is_training=False)\n",
        "        mean_loss += loss(logits, gt)\n",
        "        counter += 1\n",
        "    mean_loss /= counter\n",
        "    return mean_loss"
      ],
      "execution_count": 13,
      "outputs": []
    },
    {
      "cell_type": "markdown",
      "metadata": {
        "id": "jnFggJ8ozDuJ"
      },
      "source": [
        "## Создание тренировочных структур"
      ]
    },
    {
      "cell_type": "code",
      "metadata": {
        "id": "Sb4HbfoazDuK"
      },
      "source": [
        "train_ds_iterator = iter(train_ds)\n",
        "\n",
        "optimizer = tf.keras.optimizers.Adam(LEARNING_RATE)\n",
        "writer = tf.summary.create_file_writer(LOG_DIR)\n",
        "global_step = tf.compat.v1.train.get_or_create_global_step()\n",
        "\n",
        "ckpt_prefix = os.path.join(LOG_DIR, 'ckpt')\n",
        "ckpt = tf.train.Checkpoint(optimizer=optimizer, model=net, gs=global_step)\n",
        "ckpt_manager = tf.train.CheckpointManager(ckpt, ckpt_prefix, max_to_keep=5)\n",
        "if ckpt_manager.latest_checkpoint is not None:\n",
        "    print('Restoring from checkpoint: {}'.format(ckpt_manager.latest_checkpoint))\n",
        "    ckpt.restore(ckpt_manager.latest_checkpoint)"
      ],
      "execution_count": 14,
      "outputs": []
    },
    {
      "cell_type": "markdown",
      "metadata": {
        "id": "vtwCcOWbzDuK"
      },
      "source": [
        "## Выполнить цикл обучения"
      ]
    },
    {
      "cell_type": "code",
      "metadata": {
        "colab": {
          "base_uri": "https://localhost:8080/",
          "height": 442
        },
        "id": "3CCP23pMLxJk",
        "outputId": "60d38f82-2809-4581-8ab9-1eea97a4d3f8"
      },
      "source": [
        "for iteration, (img, gt) in enumerate(train_ds_iterator):\n",
        "\n",
        "    # Forward\n",
        "    with tf.GradientTape() as tape:\n",
        "        logits = net(img, is_training=True)\n",
        "        loss_value = loss(logits, gt) + sum(net.losses)\n",
        "\n",
        "    # Bacward\n",
        "    grads = tape.gradient(loss_value, net.trainable_variables)\n",
        "    optimizer.apply_gradients(zip(grads, net.trainable_variables))\n",
        "\n",
        "    # Display loss\n",
        "    if iteration % 100 == 0:\n",
        "\n",
        "        print(\"[%4d] Loss: %2.4f\" % (iteration, loss_value))\n",
        "\n",
        "    # # Calc validation loss\n",
        "    if iteration % 200 == 0:\n",
        "        val_loss = evaluate_model(net, val_ds)\n",
        "\n",
        "        print(\"[%4d] Validation Loss: %2.4f\" % (iteration, val_loss))\n"
      ],
      "execution_count": 15,
      "outputs": [
        {
          "output_type": "stream",
          "text": [
            "[   0] Loss: 3.7550\n",
            "[   0] Validation Loss: 0.6934\n",
            "[ 100] Loss: 2.7079\n"
          ],
          "name": "stdout"
        },
        {
          "output_type": "error",
          "ename": "KeyboardInterrupt",
          "evalue": "ignored",
          "traceback": [
            "\u001b[0;31m---------------------------------------------------------------------------\u001b[0m",
            "\u001b[0;31mKeyboardInterrupt\u001b[0m                         Traceback (most recent call last)",
            "\u001b[0;32m<ipython-input-15-9f3c045f12f3>\u001b[0m in \u001b[0;36m<module>\u001b[0;34m()\u001b[0m\n\u001b[1;32m      7\u001b[0m \u001b[0;34m\u001b[0m\u001b[0m\n\u001b[1;32m      8\u001b[0m     \u001b[0;31m# Bacward\u001b[0m\u001b[0;34m\u001b[0m\u001b[0;34m\u001b[0m\u001b[0;34m\u001b[0m\u001b[0m\n\u001b[0;32m----> 9\u001b[0;31m     \u001b[0mgrads\u001b[0m \u001b[0;34m=\u001b[0m \u001b[0mtape\u001b[0m\u001b[0;34m.\u001b[0m\u001b[0mgradient\u001b[0m\u001b[0;34m(\u001b[0m\u001b[0mloss_value\u001b[0m\u001b[0;34m,\u001b[0m \u001b[0mnet\u001b[0m\u001b[0;34m.\u001b[0m\u001b[0mtrainable_variables\u001b[0m\u001b[0;34m)\u001b[0m\u001b[0;34m\u001b[0m\u001b[0;34m\u001b[0m\u001b[0m\n\u001b[0m\u001b[1;32m     10\u001b[0m     \u001b[0moptimizer\u001b[0m\u001b[0;34m.\u001b[0m\u001b[0mapply_gradients\u001b[0m\u001b[0;34m(\u001b[0m\u001b[0mzip\u001b[0m\u001b[0;34m(\u001b[0m\u001b[0mgrads\u001b[0m\u001b[0;34m,\u001b[0m \u001b[0mnet\u001b[0m\u001b[0;34m.\u001b[0m\u001b[0mtrainable_variables\u001b[0m\u001b[0;34m)\u001b[0m\u001b[0;34m)\u001b[0m\u001b[0;34m\u001b[0m\u001b[0;34m\u001b[0m\u001b[0m\n\u001b[1;32m     11\u001b[0m \u001b[0;34m\u001b[0m\u001b[0m\n",
            "\u001b[0;32m/usr/local/lib/python3.7/dist-packages/tensorflow/python/eager/backprop.py\u001b[0m in \u001b[0;36mgradient\u001b[0;34m(self, target, sources, output_gradients, unconnected_gradients)\u001b[0m\n\u001b[1;32m   1078\u001b[0m         \u001b[0moutput_gradients\u001b[0m\u001b[0;34m=\u001b[0m\u001b[0moutput_gradients\u001b[0m\u001b[0;34m,\u001b[0m\u001b[0;34m\u001b[0m\u001b[0;34m\u001b[0m\u001b[0m\n\u001b[1;32m   1079\u001b[0m         \u001b[0msources_raw\u001b[0m\u001b[0;34m=\u001b[0m\u001b[0mflat_sources_raw\u001b[0m\u001b[0;34m,\u001b[0m\u001b[0;34m\u001b[0m\u001b[0;34m\u001b[0m\u001b[0m\n\u001b[0;32m-> 1080\u001b[0;31m         unconnected_gradients=unconnected_gradients)\n\u001b[0m\u001b[1;32m   1081\u001b[0m \u001b[0;34m\u001b[0m\u001b[0m\n\u001b[1;32m   1082\u001b[0m     \u001b[0;32mif\u001b[0m \u001b[0;32mnot\u001b[0m \u001b[0mself\u001b[0m\u001b[0;34m.\u001b[0m\u001b[0m_persistent\u001b[0m\u001b[0;34m:\u001b[0m\u001b[0;34m\u001b[0m\u001b[0;34m\u001b[0m\u001b[0m\n",
            "\u001b[0;32m/usr/local/lib/python3.7/dist-packages/tensorflow/python/eager/imperative_grad.py\u001b[0m in \u001b[0;36mimperative_grad\u001b[0;34m(tape, target, sources, output_gradients, sources_raw, unconnected_gradients)\u001b[0m\n\u001b[1;32m     75\u001b[0m       \u001b[0moutput_gradients\u001b[0m\u001b[0;34m,\u001b[0m\u001b[0;34m\u001b[0m\u001b[0;34m\u001b[0m\u001b[0m\n\u001b[1;32m     76\u001b[0m       \u001b[0msources_raw\u001b[0m\u001b[0;34m,\u001b[0m\u001b[0;34m\u001b[0m\u001b[0;34m\u001b[0m\u001b[0m\n\u001b[0;32m---> 77\u001b[0;31m       compat.as_str(unconnected_gradients.value))\n\u001b[0m",
            "\u001b[0;32m/usr/local/lib/python3.7/dist-packages/tensorflow/python/eager/backprop.py\u001b[0m in \u001b[0;36m_gradient_function\u001b[0;34m(op_name, attr_tuple, num_inputs, inputs, outputs, out_grads, skip_input_indices, forward_pass_name_scope)\u001b[0m\n\u001b[1;32m    157\u001b[0m       \u001b[0mgradient_name_scope\u001b[0m \u001b[0;34m+=\u001b[0m \u001b[0mforward_pass_name_scope\u001b[0m \u001b[0;34m+\u001b[0m \u001b[0;34m\"/\"\u001b[0m\u001b[0;34m\u001b[0m\u001b[0;34m\u001b[0m\u001b[0m\n\u001b[1;32m    158\u001b[0m     \u001b[0;32mwith\u001b[0m \u001b[0mops\u001b[0m\u001b[0;34m.\u001b[0m\u001b[0mname_scope\u001b[0m\u001b[0;34m(\u001b[0m\u001b[0mgradient_name_scope\u001b[0m\u001b[0;34m)\u001b[0m\u001b[0;34m:\u001b[0m\u001b[0;34m\u001b[0m\u001b[0;34m\u001b[0m\u001b[0m\n\u001b[0;32m--> 159\u001b[0;31m       \u001b[0;32mreturn\u001b[0m \u001b[0mgrad_fn\u001b[0m\u001b[0;34m(\u001b[0m\u001b[0mmock_op\u001b[0m\u001b[0;34m,\u001b[0m \u001b[0;34m*\u001b[0m\u001b[0mout_grads\u001b[0m\u001b[0;34m)\u001b[0m\u001b[0;34m\u001b[0m\u001b[0;34m\u001b[0m\u001b[0m\n\u001b[0m\u001b[1;32m    160\u001b[0m   \u001b[0;32melse\u001b[0m\u001b[0;34m:\u001b[0m\u001b[0;34m\u001b[0m\u001b[0;34m\u001b[0m\u001b[0m\n\u001b[1;32m    161\u001b[0m     \u001b[0;32mreturn\u001b[0m \u001b[0mgrad_fn\u001b[0m\u001b[0;34m(\u001b[0m\u001b[0mmock_op\u001b[0m\u001b[0;34m,\u001b[0m \u001b[0;34m*\u001b[0m\u001b[0mout_grads\u001b[0m\u001b[0;34m)\u001b[0m\u001b[0;34m\u001b[0m\u001b[0;34m\u001b[0m\u001b[0m\n",
            "\u001b[0;32m/usr/local/lib/python3.7/dist-packages/tensorflow/python/ops/nn_grad.py\u001b[0m in \u001b[0;36m_Conv2DGrad\u001b[0;34m(op, grad)\u001b[0m\n\u001b[1;32m    598\u001b[0m           \u001b[0mexplicit_paddings\u001b[0m\u001b[0;34m=\u001b[0m\u001b[0mexplicit_paddings\u001b[0m\u001b[0;34m,\u001b[0m\u001b[0;34m\u001b[0m\u001b[0;34m\u001b[0m\u001b[0m\n\u001b[1;32m    599\u001b[0m           \u001b[0muse_cudnn_on_gpu\u001b[0m\u001b[0;34m=\u001b[0m\u001b[0muse_cudnn_on_gpu\u001b[0m\u001b[0;34m,\u001b[0m\u001b[0;34m\u001b[0m\u001b[0;34m\u001b[0m\u001b[0m\n\u001b[0;32m--> 600\u001b[0;31m           data_format=data_format)\n\u001b[0m\u001b[1;32m    601\u001b[0m   ]\n\u001b[1;32m    602\u001b[0m \u001b[0;34m\u001b[0m\u001b[0m\n",
            "\u001b[0;32m/usr/local/lib/python3.7/dist-packages/tensorflow/python/ops/gen_nn_ops.py\u001b[0m in \u001b[0;36mconv2d_backprop_filter\u001b[0;34m(input, filter_sizes, out_backprop, strides, padding, use_cudnn_on_gpu, explicit_paddings, data_format, dilations, name)\u001b[0m\n\u001b[1;32m   1082\u001b[0m         \u001b[0;34m\"strides\"\u001b[0m\u001b[0;34m,\u001b[0m \u001b[0mstrides\u001b[0m\u001b[0;34m,\u001b[0m \u001b[0;34m\"use_cudnn_on_gpu\"\u001b[0m\u001b[0;34m,\u001b[0m \u001b[0muse_cudnn_on_gpu\u001b[0m\u001b[0;34m,\u001b[0m \u001b[0;34m\"padding\"\u001b[0m\u001b[0;34m,\u001b[0m\u001b[0;34m\u001b[0m\u001b[0;34m\u001b[0m\u001b[0m\n\u001b[1;32m   1083\u001b[0m         \u001b[0mpadding\u001b[0m\u001b[0;34m,\u001b[0m \u001b[0;34m\"explicit_paddings\"\u001b[0m\u001b[0;34m,\u001b[0m \u001b[0mexplicit_paddings\u001b[0m\u001b[0;34m,\u001b[0m \u001b[0;34m\"data_format\"\u001b[0m\u001b[0;34m,\u001b[0m\u001b[0;34m\u001b[0m\u001b[0;34m\u001b[0m\u001b[0m\n\u001b[0;32m-> 1084\u001b[0;31m         data_format, \"dilations\", dilations)\n\u001b[0m\u001b[1;32m   1085\u001b[0m       \u001b[0;32mreturn\u001b[0m \u001b[0m_result\u001b[0m\u001b[0;34m\u001b[0m\u001b[0;34m\u001b[0m\u001b[0m\n\u001b[1;32m   1086\u001b[0m     \u001b[0;32mexcept\u001b[0m \u001b[0m_core\u001b[0m\u001b[0;34m.\u001b[0m\u001b[0m_NotOkStatusException\u001b[0m \u001b[0;32mas\u001b[0m \u001b[0me\u001b[0m\u001b[0;34m:\u001b[0m\u001b[0;34m\u001b[0m\u001b[0;34m\u001b[0m\u001b[0m\n",
            "\u001b[0;31mKeyboardInterrupt\u001b[0m: "
          ]
        }
      ]
    },
    {
      "cell_type": "code",
      "metadata": {
        "id": "Xq7Pa7WAC2BN"
      },
      "source": [
        ""
      ],
      "execution_count": null,
      "outputs": []
    },
    {
      "cell_type": "markdown",
      "metadata": {
        "id": "a1OpjBX5EVqU"
      },
      "source": [
        "## Остановил сам. Очень долго обучается. Наверное нужно было сеть сделать по проще. Захотелось по выпендриваться. Извините не получилось."
      ]
    }
  ]
}